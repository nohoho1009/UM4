{
 "cells": [
  {
   "cell_type": "markdown",
   "metadata": {},
   "source": [
    "#過去十年の競馬結果のデータ"
   ]
  },
  {
   "cell_type": "code",
   "execution_count": 6,
   "metadata": {
    "collapsed": true
   },
   "outputs": [
    {
     "name": "stdout",
     "output_type": "stream",
     "text": [
      "C:\\Users\\nohoho1009\\PycharmProjects\\UMA\n"
     ]
    },
    {
     "name": "stderr",
     "output_type": "stream",
     "text": [
      "C:\\Users\\nohoho1009\\Anaconda3\\lib\\site-packages\\IPython\\core\\interactiveshell.py:2728: DtypeWarning: Columns (20) have mixed types. Specify dtype option on import or set low_memory=False.\n  interactivity=interactivity, compiler=compiler, result=result)\n"
     ]
    }
   ],
   "source": [
    "import os\n",
    "import pandas as pd\n",
    "%cd C:\\Users\\nohoho1009\\PycharmProjects\\UMA\n",
    "\n",
    "feature = pd.read_csv(\"data/feature.csv\", encoding=\"Shift-JIS\")\n",
    "race_info = pd.read_csv(\"data/race_info.csv\", encoding=\"Shift-JIS\")\n",
    "race_result = pd.read_csv(\"data/race_result.csv\", encoding=\"Shift-JIS\")"
   ]
  },
  {
   "cell_type": "markdown",
   "metadata": {},
   "source": [
    "## 人気順の的中率\n",
    "オッズの人気順にそのまま単勝で購入した場合の的中率は以下の通り。\n",
    "人気1位の単勝購入で約3割、5番手まで含めると大体8割くらいの的中率となるらしい。"
   ]
  },
  {
   "cell_type": "code",
   "execution_count": 12,
   "metadata": {},
   "outputs": [
    {
     "data": {
      "text/plain": [
       "<matplotlib.axes._subplots.AxesSubplot at 0x1c420bc1978>"
      ]
     },
     "execution_count": 12,
     "metadata": {},
     "output_type": "execute_result"
    },
    {
     "data": {
      "image/png": "[encoded data removed]",
      "text/plain": [
       "<matplotlib.figure.Figure at 0x1c420bc1588>"
      ]
     },
     "metadata": {},
     "output_type": "display_data"
    }
   ],
   "source": [
    "result_1st = race_result[race_result.order_of_finish == \"1\"]\n",
    "polularity = result_1st.groupby(\"popularity\").race_id.count()\n",
    "polularity = polularity / polularity.sum()\n",
    "\n",
    "polularity.plot.bar()"
   ]
  },
  {
   "cell_type": "code",
   "execution_count": 16,
   "metadata": {},
   "outputs": [
    {
     "data": {
      "text/plain": [
       "0.8057920648711266"
      ]
     },
     "execution_count": 16,
     "metadata": {},
     "output_type": "execute_result"
    }
   ],
   "source": [
    "polularity.iloc[0] + polularity.iloc[1] + polularity.iloc[2] + polularity.iloc[3] \\\n",
    "+ polularity.iloc[4]"
   ]
  },
  {
   "cell_type": "markdown",
   "metadata": {},
   "source": [
    "## 人気別の払い戻し率\n",
    "馬の人気別の払い戻し率は下記の通り。\n",
    "4,5,6,7番人気の払い戻し率が高い模様。\n",
    "\n",
    "払い戻し率は対象の馬を購入した場合に帰ってくる金額の割合のこと。\n",
    "1を超えれば利益が出る。"
   ]
  },
  {
   "cell_type": "code",
   "execution_count": 19,
   "metadata": {},
   "outputs": [
    {
     "data": {
      "text/plain": [
       "popularity\n1.0     0.772661\n2.0     0.793729\n3.0     0.802116\n4.0     0.813358\n5.0     0.824397\n6.0     0.828100\n7.0     0.816323\n8.0     0.817442\n9.0     0.737026\n10.0    0.721138\n11.0    0.739011\n12.0    0.659824\n13.0    0.622710\n14.0    0.473708\n15.0    0.521498\n16.0    0.379869\n17.0    0.257288\n18.0    0.191260\ndtype: float64"
      ]
     },
     "execution_count": 0,
     "metadata": {},
     "output_type": "execute_result"
    }
   ],
   "source": [
    "race_result[\"cnt\"] = 1\n",
    "buyTime = race_result.groupby(\"popularity\").cnt.count()\n",
    "\n",
    "result_1st = race_result[race_result.order_of_finish == \"1\"]\n",
    "payback = result_1st.groupby(\"popularity\").agg({\"odds\" : \"sum\"})\n",
    "payback[\"buyCnt\"] = buyTime\n",
    "\n",
    "display(payback.odds / payback.buyCnt)"
   ]
  },
  {
   "cell_type": "code",
   "execution_count": null,
   "metadata": {},
   "outputs": [],
   "source": []
  }
 ],
 "metadata": {
  "kernelspec": {
   "display_name": "Python 2",
   "language": "python",
   "name": "python2"
  },
  "language_info": {
   "codemirror_mode": {
    "name": "ipython",
    "version": 2
   },
   "file_extension": ".py",
   "mimetype": "text/x-python",
   "name": "python",
   "nbconvert_exporter": "python",
   "pygments_lexer": "ipython2",
   "version": "2.7.6"
  }
 },
 "nbformat": 4,
 "nbformat_minor": 0
}
